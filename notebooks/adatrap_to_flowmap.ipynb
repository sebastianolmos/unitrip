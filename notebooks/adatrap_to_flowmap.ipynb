{
 "cells": [
  {
   "cell_type": "markdown",
   "id": "b30a56a5",
   "metadata": {},
   "source": [
    "# Visualizing Adatrap data (public transportation trips in Santiago) in Flowmap using the Unitrip format"
   ]
  },
  {
   "cell_type": "markdown",
   "id": "f078fd62",
   "metadata": {},
   "source": [
    "This notebook shows how to use the module created to convert public transportation trips data to the Unitrip format. Then, from the format created, the data can be converted so that it can be visualized in flowmap.blue"
   ]
  },
  {
   "cell_type": "markdown",
   "id": "bb2518f3",
   "metadata": {},
   "source": [
    "## Preamble"
   ]
  },
  {
   "cell_type": "code",
   "execution_count": 1,
   "id": "da5a8724",
   "metadata": {},
   "outputs": [],
   "source": [
    "import seaborn as sns\n",
    "import pandas as pd\n",
    "import geopandas as gpd\n",
    "\n",
    "import sys\n",
    "import os.path\n",
    "sys.path.append(os.path.dirname(os.path.dirname(os.path.abspath(os.getcwd()))))\n",
    "\n",
    "%matplotlib inline\n",
    "sns.set(context='notebook', font='Lucida Sans Unicode', style='white', palette='plasma')"
   ]
  },
  {
   "cell_type": "markdown",
   "id": "b8423a02",
   "metadata": {},
   "source": [
    "Import Adatrap public transportation trips data"
   ]
  },
  {
   "cell_type": "code",
   "execution_count": 3,
   "id": "a464bbbb",
   "metadata": {},
   "outputs": [
    {
     "name": "stderr",
     "output_type": "stream",
     "text": [
      "C:\\Users\\sebam\\AppData\\Local\\Temp\\ipykernel_28320\\713405654.py:1: DtypeWarning: Columns (14,80) have mixed types. Specify dtype option on import or set low_memory=False.\n",
      "  adatrap_table = pd.read_csv('../data/other_format/adatrap/2019-05-19.viajes', sep='|')\n"
     ]
    },
    {
     "data": {
      "text/html": [
       "<div>\n",
       "<style scoped>\n",
       "    .dataframe tbody tr th:only-of-type {\n",
       "        vertical-align: middle;\n",
       "    }\n",
       "\n",
       "    .dataframe tbody tr th {\n",
       "        vertical-align: top;\n",
       "    }\n",
       "\n",
       "    .dataframe thead th {\n",
       "        text-align: right;\n",
       "    }\n",
       "</style>\n",
       "<table border=\"1\" class=\"dataframe\">\n",
       "  <thead>\n",
       "    <tr style=\"text-align: right;\">\n",
       "      <th></th>\n",
       "      <th>id</th>\n",
       "      <th>nviaje</th>\n",
       "      <th>netapa</th>\n",
       "      <th>paraderosubida_1era</th>\n",
       "      <th>paraderosubida_2da</th>\n",
       "      <th>paraderosubida_3era</th>\n",
       "      <th>paraderosubida_4ta</th>\n",
       "      <th>tiemposubida_1era</th>\n",
       "      <th>tiemposubida_2da</th>\n",
       "      <th>tiemposubida_3era</th>\n",
       "      <th>tiemposubida_4ta</th>\n",
       "      <th>paraderobajada_1era</th>\n",
       "      <th>paraderobajada_2da</th>\n",
       "      <th>paraderobajada_3era</th>\n",
       "      <th>paraderobajada_4ta</th>\n",
       "      <th>tiempobajada_1era</th>\n",
       "      <th>tiempobajada_2da</th>\n",
       "      <th>tiempobajada_3era</th>\n",
       "      <th>tiempobajada_4ta</th>\n",
       "    </tr>\n",
       "  </thead>\n",
       "  <tbody>\n",
       "    <tr>\n",
       "      <th>0</th>\n",
       "      <td>1163146</td>\n",
       "      <td>1</td>\n",
       "      <td>2</td>\n",
       "      <td>L-1-6-5-PO</td>\n",
       "      <td>T-20-73-OP-45</td>\n",
       "      <td>-</td>\n",
       "      <td>-</td>\n",
       "      <td>2019-05-19 16:10:32</td>\n",
       "      <td>2019-05-19 16:27:44</td>\n",
       "      <td>-</td>\n",
       "      <td>-</td>\n",
       "      <td>T-20-203-NS-10</td>\n",
       "      <td>-</td>\n",
       "      <td>-</td>\n",
       "      <td>-</td>\n",
       "      <td>2019-05-19 16:18:21</td>\n",
       "      <td>-</td>\n",
       "      <td>-</td>\n",
       "      <td>-</td>\n",
       "    </tr>\n",
       "    <tr>\n",
       "      <th>1</th>\n",
       "      <td>3819058</td>\n",
       "      <td>1</td>\n",
       "      <td>2</td>\n",
       "      <td>T-4-12-PO-20</td>\n",
       "      <td>E-17-12-SN-30</td>\n",
       "      <td>-</td>\n",
       "      <td>-</td>\n",
       "      <td>2019-05-19 14:50:24</td>\n",
       "      <td>2019-05-19 15:15:01</td>\n",
       "      <td>-</td>\n",
       "      <td>-</td>\n",
       "      <td>E-17-12-NS-25</td>\n",
       "      <td>L-17-39-5-NS</td>\n",
       "      <td>-</td>\n",
       "      <td>-</td>\n",
       "      <td>2019-05-19 15:07:57</td>\n",
       "      <td>2019-05-19 15:24:08</td>\n",
       "      <td>-</td>\n",
       "      <td>-</td>\n",
       "    </tr>\n",
       "    <tr>\n",
       "      <th>2</th>\n",
       "      <td>3819058</td>\n",
       "      <td>2</td>\n",
       "      <td>2</td>\n",
       "      <td>L-17-39-5-NS</td>\n",
       "      <td>E-17-12-SN-35</td>\n",
       "      <td>-</td>\n",
       "      <td>-</td>\n",
       "      <td>2019-05-19 20:01:32</td>\n",
       "      <td>2019-05-19 20:14:01</td>\n",
       "      <td>-</td>\n",
       "      <td>-</td>\n",
       "      <td>E-17-12-NS-20</td>\n",
       "      <td>T-3-12-OP-25</td>\n",
       "      <td>-</td>\n",
       "      <td>-</td>\n",
       "      <td>2019-05-19 20:08:34</td>\n",
       "      <td>2019-05-19 20:29:37</td>\n",
       "      <td>-</td>\n",
       "      <td>-</td>\n",
       "    </tr>\n",
       "    <tr>\n",
       "      <th>3</th>\n",
       "      <td>3862258</td>\n",
       "      <td>1</td>\n",
       "      <td>2</td>\n",
       "      <td>L-27-22-15-SN</td>\n",
       "      <td>LA CISTERNA L4A</td>\n",
       "      <td>-</td>\n",
       "      <td>-</td>\n",
       "      <td>2019-05-19 15:26:05</td>\n",
       "      <td>2019-05-19 15:43:13</td>\n",
       "      <td>-</td>\n",
       "      <td>-</td>\n",
       "      <td>I-26-228-SN-25</td>\n",
       "      <td>VICUNA MACKENNA</td>\n",
       "      <td>-</td>\n",
       "      <td>-</td>\n",
       "      <td>2019-05-19 15:39:50</td>\n",
       "      <td>2019-05-19 15:54:43</td>\n",
       "      <td>-</td>\n",
       "      <td>-</td>\n",
       "    </tr>\n",
       "    <tr>\n",
       "      <th>4</th>\n",
       "      <td>3862258</td>\n",
       "      <td>2</td>\n",
       "      <td>1</td>\n",
       "      <td>VICUNA MACKENNA</td>\n",
       "      <td>-</td>\n",
       "      <td>-</td>\n",
       "      <td>-</td>\n",
       "      <td>2019-05-19 18:36:56</td>\n",
       "      <td>-</td>\n",
       "      <td>-</td>\n",
       "      <td>-</td>\n",
       "      <td>-</td>\n",
       "      <td>-</td>\n",
       "      <td>-</td>\n",
       "      <td>-</td>\n",
       "      <td>-</td>\n",
       "      <td>-</td>\n",
       "      <td>-</td>\n",
       "      <td>-</td>\n",
       "    </tr>\n",
       "  </tbody>\n",
       "</table>\n",
       "</div>"
      ],
      "text/plain": [
       "        id  nviaje  netapa paraderosubida_1era paraderosubida_2da  \\\n",
       "0  1163146       1       2          L-1-6-5-PO      T-20-73-OP-45   \n",
       "1  3819058       1       2        T-4-12-PO-20      E-17-12-SN-30   \n",
       "2  3819058       2       2        L-17-39-5-NS      E-17-12-SN-35   \n",
       "3  3862258       1       2       L-27-22-15-SN    LA CISTERNA L4A   \n",
       "4  3862258       2       1     VICUNA MACKENNA                  -   \n",
       "\n",
       "  paraderosubida_3era paraderosubida_4ta    tiemposubida_1era  \\\n",
       "0                   -                  -  2019-05-19 16:10:32   \n",
       "1                   -                  -  2019-05-19 14:50:24   \n",
       "2                   -                  -  2019-05-19 20:01:32   \n",
       "3                   -                  -  2019-05-19 15:26:05   \n",
       "4                   -                  -  2019-05-19 18:36:56   \n",
       "\n",
       "      tiemposubida_2da tiemposubida_3era tiemposubida_4ta paraderobajada_1era  \\\n",
       "0  2019-05-19 16:27:44                 -                -      T-20-203-NS-10   \n",
       "1  2019-05-19 15:15:01                 -                -       E-17-12-NS-25   \n",
       "2  2019-05-19 20:14:01                 -                -       E-17-12-NS-20   \n",
       "3  2019-05-19 15:43:13                 -                -      I-26-228-SN-25   \n",
       "4                    -                 -                -                   -   \n",
       "\n",
       "  paraderobajada_2da paraderobajada_3era paraderobajada_4ta  \\\n",
       "0                  -                   -                  -   \n",
       "1       L-17-39-5-NS                   -                  -   \n",
       "2       T-3-12-OP-25                   -                  -   \n",
       "3    VICUNA MACKENNA                   -                  -   \n",
       "4                  -                   -                  -   \n",
       "\n",
       "     tiempobajada_1era     tiempobajada_2da tiempobajada_3era tiempobajada_4ta  \n",
       "0  2019-05-19 16:18:21                    -                 -                -  \n",
       "1  2019-05-19 15:07:57  2019-05-19 15:24:08                 -                -  \n",
       "2  2019-05-19 20:08:34  2019-05-19 20:29:37                 -                -  \n",
       "3  2019-05-19 15:39:50  2019-05-19 15:54:43                 -                -  \n",
       "4                    -                    -                 -                -  "
      ]
     },
     "execution_count": 3,
     "metadata": {},
     "output_type": "execute_result"
    }
   ],
   "source": [
    "adatrap_table = pd.read_csv('../data/other_format/adatrap/2019-05-19.viajes', sep='|')\n",
    "columns = ['id', 'nviaje', 'netapa', \n",
    "        'paraderosubida_1era', 'paraderosubida_2da', 'paraderosubida_3era', 'paraderosubida_4ta', 'tiemposubida_1era', 'tiemposubida_2da', 'tiemposubida_3era', 'tiemposubida_4ta',\n",
    "        'paraderobajada_1era', 'paraderobajada_2da', 'paraderobajada_3era', 'paraderobajada_4ta', 'tiempobajada_1era', 'tiempobajada_2da', 'tiempobajada_3era', 'tiempobajada_4ta']\n",
    "adatrap_table = adatrap_table[columns]\n",
    "adatrap_table.head()"
   ]
  },
  {
   "cell_type": "markdown",
   "id": "15bc0ae4",
   "metadata": {},
   "source": [
    "Imports the data of the stops and stations with their location."
   ]
  },
  {
   "cell_type": "code",
   "execution_count": 4,
   "id": "1a0206e9",
   "metadata": {},
   "outputs": [
    {
     "data": {
      "text/html": [
       "<div>\n",
       "<style scoped>\n",
       "    .dataframe tbody tr th:only-of-type {\n",
       "        vertical-align: middle;\n",
       "    }\n",
       "\n",
       "    .dataframe tbody tr th {\n",
       "        vertical-align: top;\n",
       "    }\n",
       "\n",
       "    .dataframe thead th {\n",
       "        text-align: right;\n",
       "    }\n",
       "</style>\n",
       "<table border=\"1\" class=\"dataframe\">\n",
       "  <thead>\n",
       "    <tr style=\"text-align: right;\">\n",
       "      <th></th>\n",
       "      <th>parada/est.metro</th>\n",
       "      <th>x</th>\n",
       "      <th>y</th>\n",
       "    </tr>\n",
       "  </thead>\n",
       "  <tbody>\n",
       "    <tr>\n",
       "      <th>0</th>\n",
       "      <td>L-13-16-PO-5</td>\n",
       "      <td>335889</td>\n",
       "      <td>6292782</td>\n",
       "    </tr>\n",
       "    <tr>\n",
       "      <th>1</th>\n",
       "      <td>L-13-36-NS-7</td>\n",
       "      <td>334219</td>\n",
       "      <td>6292589</td>\n",
       "    </tr>\n",
       "    <tr>\n",
       "      <th>2</th>\n",
       "      <td>L-13-36-SN-17</td>\n",
       "      <td>334281</td>\n",
       "      <td>6292830</td>\n",
       "    </tr>\n",
       "    <tr>\n",
       "      <th>3</th>\n",
       "      <td>L-13-31-OP-5</td>\n",
       "      <td>334732</td>\n",
       "      <td>6292745</td>\n",
       "    </tr>\n",
       "    <tr>\n",
       "      <th>4</th>\n",
       "      <td>L-13-31-SN-10</td>\n",
       "      <td>334731</td>\n",
       "      <td>6292721</td>\n",
       "    </tr>\n",
       "  </tbody>\n",
       "</table>\n",
       "</div>"
      ],
      "text/plain": [
       "  parada/est.metro       x        y\n",
       "0     L-13-16-PO-5  335889  6292782\n",
       "1     L-13-36-NS-7  334219  6292589\n",
       "2    L-13-36-SN-17  334281  6292830\n",
       "3     L-13-31-OP-5  334732  6292745\n",
       "4    L-13-31-SN-10  334731  6292721"
      ]
     },
     "execution_count": 4,
     "metadata": {},
     "output_type": "execute_result"
    }
   ],
   "source": [
    "stations_table = pd.read_csv('../data/other_format/adatrap/DIC_777_fixed.csv', sep=',')\n",
    "stations_table = stations_table[['parada/est.metro', 'x', 'y']]\n",
    "stations_table.head()"
   ]
  },
  {
   "cell_type": "markdown",
   "id": "428fcead",
   "metadata": {},
   "source": [
    "The module is used to convert the format to unitrip."
   ]
  },
  {
   "cell_type": "code",
   "execution_count": 5,
   "id": "7065beb2",
   "metadata": {},
   "outputs": [
    {
     "name": "stdout",
     "output_type": "stream",
     "text": [
      "There are 918270 trips from the first stop to the first depature\n",
      "There are 230216 trips from the second stop to the second depature\n",
      "There are 26509 trips from the third stop to the third depature\n",
      "There are 666 trips from the fourth stop to the fourth depature\n",
      "There are 1175661 trips in total\n",
      "Fixing stations name format ...\n",
      "There are 887331 trips with recognizable stations\n",
      "File stored at ../data/unified_format/santiago_adatrap_unitrip.parquet\n"
     ]
    }
   ],
   "source": [
    "from unitrip.format_conversion.adatrap_converter import adatrap_to_unitrip\n",
    "\n",
    "adatrap_to_unitrip(adatrap_table, stations_table, '../data/unified_format/santiago_adatrap_unitrip.parquet', h3_res=12)"
   ]
  },
  {
   "cell_type": "markdown",
   "id": "1c8e34c2",
   "metadata": {},
   "source": [
    "## Let's aggregate trips and create flows in unitrip format (unitrip -> uniflow)"
   ]
  },
  {
   "cell_type": "markdown",
   "id": "9a9c0c9a",
   "metadata": {},
   "source": [
    "Load the parquet to a dataframe with the unitrip data"
   ]
  },
  {
   "cell_type": "code",
   "execution_count": 6,
   "id": "479b1350",
   "metadata": {},
   "outputs": [
    {
     "data": {
      "text/html": [
       "<div>\n",
       "<style scoped>\n",
       "    .dataframe tbody tr th:only-of-type {\n",
       "        vertical-align: middle;\n",
       "    }\n",
       "\n",
       "    .dataframe tbody tr th {\n",
       "        vertical-align: top;\n",
       "    }\n",
       "\n",
       "    .dataframe thead th {\n",
       "        text-align: right;\n",
       "    }\n",
       "</style>\n",
       "<table border=\"1\" class=\"dataframe\">\n",
       "  <thead>\n",
       "    <tr style=\"text-align: right;\">\n",
       "      <th></th>\n",
       "      <th>user_id</th>\n",
       "      <th>o_h3_cell</th>\n",
       "      <th>d_h3_cell</th>\n",
       "    </tr>\n",
       "    <tr>\n",
       "      <th>trip_id</th>\n",
       "      <th></th>\n",
       "      <th></th>\n",
       "      <th></th>\n",
       "    </tr>\n",
       "  </thead>\n",
       "  <tbody>\n",
       "    <tr>\n",
       "      <th>0</th>\n",
       "      <td>1163146</td>\n",
       "      <td>8cb2c55450d2dff</td>\n",
       "      <td>8cb2c5541c589ff</td>\n",
       "    </tr>\n",
       "    <tr>\n",
       "      <th>1</th>\n",
       "      <td>3819058</td>\n",
       "      <td>8cb2c55603401ff</td>\n",
       "      <td>8cb2c556d284bff</td>\n",
       "    </tr>\n",
       "    <tr>\n",
       "      <th>2</th>\n",
       "      <td>3819058</td>\n",
       "      <td>8cb2c519e4d0bff</td>\n",
       "      <td>8cb2c556d2a2dff</td>\n",
       "    </tr>\n",
       "    <tr>\n",
       "      <th>3</th>\n",
       "      <td>3862258</td>\n",
       "      <td>8cb2c544052e9ff</td>\n",
       "      <td>8cb2c546302b9ff</td>\n",
       "    </tr>\n",
       "    <tr>\n",
       "      <th>4</th>\n",
       "      <td>4235386</td>\n",
       "      <td>8cb2c540b81e1ff</td>\n",
       "      <td>8cb2c5476d221ff</td>\n",
       "    </tr>\n",
       "  </tbody>\n",
       "</table>\n",
       "</div>"
      ],
      "text/plain": [
       "         user_id        o_h3_cell        d_h3_cell\n",
       "trip_id                                           \n",
       "0        1163146  8cb2c55450d2dff  8cb2c5541c589ff\n",
       "1        3819058  8cb2c55603401ff  8cb2c556d284bff\n",
       "2        3819058  8cb2c519e4d0bff  8cb2c556d2a2dff\n",
       "3        3862258  8cb2c544052e9ff  8cb2c546302b9ff\n",
       "4        4235386  8cb2c540b81e1ff  8cb2c5476d221ff"
      ]
     },
     "execution_count": 6,
     "metadata": {},
     "output_type": "execute_result"
    }
   ],
   "source": [
    "santiago_unitrip = pd.read_parquet('../data/unified_format/santiago_adatrap_unitrip.parquet', columns=['user_id', 'o_h3_cell', 'd_h3_cell'])\n",
    "santiago_unitrip.head()"
   ]
  },
  {
   "cell_type": "markdown",
   "id": "dc7a421f",
   "metadata": {},
   "source": [
    "The aggregation will be performed using h3 cells, with a specific level of resolution and filtering with a minimum number of trips per flow"
   ]
  },
  {
   "cell_type": "code",
   "execution_count": 7,
   "id": "840d0f9a",
   "metadata": {},
   "outputs": [
    {
     "name": "stdout",
     "output_type": "stream",
     "text": [
      "Set the h3 cell columns to a parent resolution ...\n",
      "Trips from one cell to the same cell are deleted, and the same OD trips made by a user are grouped together. ...\n",
      "There are 866892 unique trips\n",
      "Aggregating trips of the same OD and with a minimun number of trips ...\n",
      "There are 14874 flows\n",
      "File stored at ../data/unified_format/santiago_adatrap_uniflow.parquet\n"
     ]
    }
   ],
   "source": [
    "from unitrip.unified_format.trip_to_flow import unitrip_to_uniflow\n",
    "\n",
    "unitrip_to_uniflow(santiago_unitrip, '../data/unified_format/santiago_adatrap_uniflow.parquet', flow_res=8, minimun_trips=10)"
   ]
  },
  {
   "cell_type": "markdown",
   "id": "7af810e8",
   "metadata": {},
   "source": [
    "## Let's create the flowmap.blue input from flows in unitrip format (uniflow)"
   ]
  },
  {
   "cell_type": "markdown",
   "id": "2cb920d6",
   "metadata": {},
   "source": [
    "Load the parquet to a dataframe with the Uniflow data"
   ]
  },
  {
   "cell_type": "code",
   "execution_count": 8,
   "id": "57f293fd",
   "metadata": {},
   "outputs": [
    {
     "data": {
      "text/html": [
       "<div>\n",
       "<style scoped>\n",
       "    .dataframe tbody tr th:only-of-type {\n",
       "        vertical-align: middle;\n",
       "    }\n",
       "\n",
       "    .dataframe tbody tr th {\n",
       "        vertical-align: top;\n",
       "    }\n",
       "\n",
       "    .dataframe thead th {\n",
       "        text-align: right;\n",
       "    }\n",
       "</style>\n",
       "<table border=\"1\" class=\"dataframe\">\n",
       "  <thead>\n",
       "    <tr style=\"text-align: right;\">\n",
       "      <th></th>\n",
       "      <th>o_h3_cell</th>\n",
       "      <th>d_h3_cell</th>\n",
       "      <th>count</th>\n",
       "    </tr>\n",
       "  </thead>\n",
       "  <tbody>\n",
       "    <tr>\n",
       "      <th>10</th>\n",
       "      <td>88b2c50825fffff</td>\n",
       "      <td>88b2c50827fffff</td>\n",
       "      <td>13</td>\n",
       "    </tr>\n",
       "    <tr>\n",
       "      <th>14</th>\n",
       "      <td>88b2c50825fffff</td>\n",
       "      <td>88b2c5086dfffff</td>\n",
       "      <td>27</td>\n",
       "    </tr>\n",
       "    <tr>\n",
       "      <th>18</th>\n",
       "      <td>88b2c50825fffff</td>\n",
       "      <td>88b2c5090bfffff</td>\n",
       "      <td>110</td>\n",
       "    </tr>\n",
       "    <tr>\n",
       "      <th>19</th>\n",
       "      <td>88b2c50825fffff</td>\n",
       "      <td>88b2c50919fffff</td>\n",
       "      <td>16</td>\n",
       "    </tr>\n",
       "    <tr>\n",
       "      <th>21</th>\n",
       "      <td>88b2c50825fffff</td>\n",
       "      <td>88b2c50929fffff</td>\n",
       "      <td>24</td>\n",
       "    </tr>\n",
       "  </tbody>\n",
       "</table>\n",
       "</div>"
      ],
      "text/plain": [
       "          o_h3_cell        d_h3_cell  count\n",
       "10  88b2c50825fffff  88b2c50827fffff     13\n",
       "14  88b2c50825fffff  88b2c5086dfffff     27\n",
       "18  88b2c50825fffff  88b2c5090bfffff    110\n",
       "19  88b2c50825fffff  88b2c50919fffff     16\n",
       "21  88b2c50825fffff  88b2c50929fffff     24"
      ]
     },
     "execution_count": 8,
     "metadata": {},
     "output_type": "execute_result"
    }
   ],
   "source": [
    "santiago_uniflow = pd.read_parquet('../data/unified_format/santiago_adatrap_uniflow.parquet')\n",
    "santiago_uniflow.head()"
   ]
  },
  {
   "cell_type": "markdown",
   "id": "76ea8b1c",
   "metadata": {},
   "source": [
    "The module is used to convert flows (in unitrip format) to flowmap input"
   ]
  },
  {
   "cell_type": "code",
   "execution_count": 9,
   "id": "bd20eaef",
   "metadata": {},
   "outputs": [
    {
     "name": "stdout",
     "output_type": "stream",
     "text": [
      "flows file stored at ../data/use_cases/flowmap/santiago_adatrap_flows.csv\n",
      "locations file stored at ../data/use_cases/flowmap/santiago_adatrap_locations.csv\n"
     ]
    }
   ],
   "source": [
    "from unitrip.use_cases.flowmap_blue.flow_to_flowmap import generate_flows_locations\n",
    "\n",
    "generate_flows_locations(santiago_uniflow, '../data/use_cases/flowmap/santiago_adatrap_flows.csv', '../data/use_cases/flowmap/santiago_adatrap_locations.csv')"
   ]
  },
  {
   "cell_type": "markdown",
   "id": "3b0f232d",
   "metadata": {},
   "source": [
    "Once these two files have been uploaded to flowmap.blue, the visualization can be seen [HERE](https://www.flowmap.blue/1FYctUexmJY863rKdKh1EIXdcGeKrpJKMmLGbO8Mo9Ho)"
   ]
  }
 ],
 "metadata": {
  "kernelspec": {
   "display_name": "multisource-flows",
   "language": "python",
   "name": "python3"
  },
  "language_info": {
   "codemirror_mode": {
    "name": "ipython",
    "version": 3
   },
   "file_extension": ".py",
   "mimetype": "text/x-python",
   "name": "python",
   "nbconvert_exporter": "python",
   "pygments_lexer": "ipython3",
   "version": "3.13.5"
  }
 },
 "nbformat": 4,
 "nbformat_minor": 5
}
