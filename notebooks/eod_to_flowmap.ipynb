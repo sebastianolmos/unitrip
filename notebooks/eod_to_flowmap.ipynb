{
 "cells": [
  {
   "cell_type": "markdown",
   "id": "7cf2cd39",
   "metadata": {},
   "source": [
    "# Visualizing EOD data in Flowmap using the Unitrip format"
   ]
  },
  {
   "cell_type": "markdown",
   "id": "301c529f",
   "metadata": {},
   "source": [
    "This notebook shows how to use the module created to convert Foursquare data to the Unitrip format. Then, from the format created, the data can be converted so that it can be visualized in flowmap.blue"
   ]
  },
  {
   "cell_type": "markdown",
   "id": "9b0a2e47",
   "metadata": {},
   "source": [
    "## Preamble"
   ]
  },
  {
   "cell_type": "code",
   "execution_count": 1,
   "id": "4ab0f4ea",
   "metadata": {},
   "outputs": [],
   "source": [
    "import seaborn as sns\n",
    "import pandas as pd\n",
    "import geopandas as gpd\n",
    "\n",
    "import sys\n",
    "import os.path\n",
    "sys.path.append(os.path.dirname(os.path.dirname(os.path.abspath(os.getcwd()))))\n",
    "\n",
    "%matplotlib inline\n",
    "sns.set(context='notebook', font='Lucida Sans Unicode', style='white', palette='plasma')"
   ]
  },
  {
   "cell_type": "markdown",
   "id": "787f6cff",
   "metadata": {},
   "source": [
    "Import EOD data: Trips"
   ]
  },
  {
   "cell_type": "code",
   "execution_count": 2,
   "id": "c2bfc630",
   "metadata": {},
   "outputs": [
    {
     "data": {
      "text/html": [
       "<div>\n",
       "<style scoped>\n",
       "    .dataframe tbody tr th:only-of-type {\n",
       "        vertical-align: middle;\n",
       "    }\n",
       "\n",
       "    .dataframe tbody tr th {\n",
       "        vertical-align: top;\n",
       "    }\n",
       "\n",
       "    .dataframe thead th {\n",
       "        text-align: right;\n",
       "    }\n",
       "</style>\n",
       "<table border=\"1\" class=\"dataframe\">\n",
       "  <thead>\n",
       "    <tr style=\"text-align: right;\">\n",
       "      <th></th>\n",
       "      <th>Persona</th>\n",
       "      <th>Viaje</th>\n",
       "      <th>OrigenCoordX</th>\n",
       "      <th>OrigenCoordY</th>\n",
       "      <th>DestinoCoordX</th>\n",
       "      <th>DestinoCoordY</th>\n",
       "      <th>HoraIni</th>\n",
       "      <th>HoraFin</th>\n",
       "    </tr>\n",
       "  </thead>\n",
       "  <tbody>\n",
       "    <tr>\n",
       "      <th>0</th>\n",
       "      <td>17343102</td>\n",
       "      <td>1734310202</td>\n",
       "      <td>335208,7188</td>\n",
       "      <td>6288387</td>\n",
       "      <td>338812,3125</td>\n",
       "      <td>6292391</td>\n",
       "      <td>22:30</td>\n",
       "      <td>23:40</td>\n",
       "    </tr>\n",
       "    <tr>\n",
       "      <th>1</th>\n",
       "      <td>17344101</td>\n",
       "      <td>1734410101</td>\n",
       "      <td>338536,4375</td>\n",
       "      <td>6291928</td>\n",
       "      <td>354267,3438</td>\n",
       "      <td>6302297</td>\n",
       "      <td>13:00</td>\n",
       "      <td>14:45</td>\n",
       "    </tr>\n",
       "    <tr>\n",
       "      <th>2</th>\n",
       "      <td>17344101</td>\n",
       "      <td>1734410102</td>\n",
       "      <td>354267,3438</td>\n",
       "      <td>6302297</td>\n",
       "      <td>338536,4375</td>\n",
       "      <td>6291928</td>\n",
       "      <td>22:00</td>\n",
       "      <td>23:30</td>\n",
       "    </tr>\n",
       "    <tr>\n",
       "      <th>3</th>\n",
       "      <td>17344103</td>\n",
       "      <td>1734410301</td>\n",
       "      <td>338536,4375</td>\n",
       "      <td>6291928</td>\n",
       "      <td>350841,6563</td>\n",
       "      <td>6297212</td>\n",
       "      <td>9:00</td>\n",
       "      <td>9:55</td>\n",
       "    </tr>\n",
       "    <tr>\n",
       "      <th>4</th>\n",
       "      <td>17344103</td>\n",
       "      <td>1734410302</td>\n",
       "      <td>350841,6563</td>\n",
       "      <td>6297212</td>\n",
       "      <td>338536,4375</td>\n",
       "      <td>6291928</td>\n",
       "      <td>19:00</td>\n",
       "      <td>21:30</td>\n",
       "    </tr>\n",
       "  </tbody>\n",
       "</table>\n",
       "</div>"
      ],
      "text/plain": [
       "    Persona       Viaje OrigenCoordX OrigenCoordY DestinoCoordX DestinoCoordY  \\\n",
       "0  17343102  1734310202  335208,7188      6288387   338812,3125       6292391   \n",
       "1  17344101  1734410101  338536,4375      6291928   354267,3438       6302297   \n",
       "2  17344101  1734410102  354267,3438      6302297   338536,4375       6291928   \n",
       "3  17344103  1734410301  338536,4375      6291928   350841,6563       6297212   \n",
       "4  17344103  1734410302  350841,6563      6297212   338536,4375       6291928   \n",
       "\n",
       "  HoraIni HoraFin  \n",
       "0   22:30   23:40  \n",
       "1   13:00   14:45  \n",
       "2   22:00   23:30  \n",
       "3    9:00    9:55  \n",
       "4   19:00   21:30  "
      ]
     },
     "execution_count": 2,
     "metadata": {},
     "output_type": "execute_result"
    }
   ],
   "source": [
    "eod_trips = pd.read_csv('../data/other_format/EOD_STGO/viajes.csv', sep=';')\n",
    "eod_trips = eod_trips[['Persona', 'Viaje', 'OrigenCoordX', 'OrigenCoordY', 'DestinoCoordX', 'DestinoCoordY', 'HoraIni', 'HoraFin']]\n",
    "eod_trips.head()"
   ]
  },
  {
   "cell_type": "markdown",
   "id": "9064b4e5",
   "metadata": {},
   "source": [
    "The module is used to convert the format to unitrip."
   ]
  },
  {
   "cell_type": "code",
   "execution_count": 5,
   "id": "da715631",
   "metadata": {},
   "outputs": [
    {
     "name": "stdout",
     "output_type": "stream",
     "text": [
      "Fixing origin and destination time formats ...\n",
      "Calculating h3 cells to origin and destination coords ...\n",
      "Dataframe ready to store\n",
      "File stored at ../data/unified_format/santiago_eod_unitrip.parquet\n"
     ]
    }
   ],
   "source": [
    "from unitrip.format_conversion.eod_converter import eod_to_unitrip\n",
    "\n",
    "eod_to_unitrip(eod_trips, '../data/unified_format/santiago_eod_unitrip.parquet', h3_res=12)"
   ]
  },
  {
   "cell_type": "markdown",
   "id": "836e21cb",
   "metadata": {},
   "source": [
    "## Let's aggregate trips and create flows in unitrip format (unitrip -> uniflow)"
   ]
  },
  {
   "cell_type": "markdown",
   "id": "70fb3a52",
   "metadata": {},
   "source": [
    "Load the parquet to a dataframe with the unitrip data"
   ]
  },
  {
   "cell_type": "code",
   "execution_count": 6,
   "id": "666adc76",
   "metadata": {},
   "outputs": [
    {
     "data": {
      "text/html": [
       "<div>\n",
       "<style scoped>\n",
       "    .dataframe tbody tr th:only-of-type {\n",
       "        vertical-align: middle;\n",
       "    }\n",
       "\n",
       "    .dataframe tbody tr th {\n",
       "        vertical-align: top;\n",
       "    }\n",
       "\n",
       "    .dataframe thead th {\n",
       "        text-align: right;\n",
       "    }\n",
       "</style>\n",
       "<table border=\"1\" class=\"dataframe\">\n",
       "  <thead>\n",
       "    <tr style=\"text-align: right;\">\n",
       "      <th></th>\n",
       "      <th>user_id</th>\n",
       "      <th>o_h3_cell</th>\n",
       "      <th>d_h3_cell</th>\n",
       "    </tr>\n",
       "    <tr>\n",
       "      <th>trip_id</th>\n",
       "      <th></th>\n",
       "      <th></th>\n",
       "      <th></th>\n",
       "    </tr>\n",
       "  </thead>\n",
       "  <tbody>\n",
       "    <tr>\n",
       "      <th>0</th>\n",
       "      <td>17343102</td>\n",
       "      <td>8cb2c540d0a89ff</td>\n",
       "      <td>8cb2c5429b60dff</td>\n",
       "    </tr>\n",
       "    <tr>\n",
       "      <th>1</th>\n",
       "      <td>17344101</td>\n",
       "      <td>8cb2c5429ae5dff</td>\n",
       "      <td>8cb2c519a994dff</td>\n",
       "    </tr>\n",
       "    <tr>\n",
       "      <th>2</th>\n",
       "      <td>17344101</td>\n",
       "      <td>8cb2c519a994dff</td>\n",
       "      <td>8cb2c5429ae5dff</td>\n",
       "    </tr>\n",
       "    <tr>\n",
       "      <th>3</th>\n",
       "      <td>17344103</td>\n",
       "      <td>8cb2c5429ae5dff</td>\n",
       "      <td>8cb2c554db113ff</td>\n",
       "    </tr>\n",
       "    <tr>\n",
       "      <th>4</th>\n",
       "      <td>17344103</td>\n",
       "      <td>8cb2c554db113ff</td>\n",
       "      <td>8cb2c5429ae5dff</td>\n",
       "    </tr>\n",
       "  </tbody>\n",
       "</table>\n",
       "</div>"
      ],
      "text/plain": [
       "          user_id        o_h3_cell        d_h3_cell\n",
       "trip_id                                            \n",
       "0        17343102  8cb2c540d0a89ff  8cb2c5429b60dff\n",
       "1        17344101  8cb2c5429ae5dff  8cb2c519a994dff\n",
       "2        17344101  8cb2c519a994dff  8cb2c5429ae5dff\n",
       "3        17344103  8cb2c5429ae5dff  8cb2c554db113ff\n",
       "4        17344103  8cb2c554db113ff  8cb2c5429ae5dff"
      ]
     },
     "execution_count": 6,
     "metadata": {},
     "output_type": "execute_result"
    }
   ],
   "source": [
    "santiago_unitrip = pd.read_parquet('../data/unified_format/santiago_eod_unitrip.parquet', columns=['user_id', 'o_h3_cell', 'd_h3_cell'])\n",
    "santiago_unitrip.head()"
   ]
  },
  {
   "cell_type": "markdown",
   "id": "29a5d30f",
   "metadata": {},
   "source": [
    "The aggregation will be performed using h3 cells, with a specific level of resolution and filtering with a minimum number of trips per flow"
   ]
  },
  {
   "cell_type": "code",
   "execution_count": 7,
   "id": "1840a0dc",
   "metadata": {},
   "outputs": [
    {
     "name": "stdout",
     "output_type": "stream",
     "text": [
      "Set the h3 cell columns to a parent resolution ...\n",
      "Trips from one cell to the same cell are deleted, and the same OD trips made by a user are grouped together. ...\n",
      "There are 72707 unique trips\n",
      "Aggregating trips of the same OD and with a minimun number of trips ...\n",
      "There are 1914 flows\n",
      "File stored at ../data/unified_format/santiago_eod_uniflow.parquet\n"
     ]
    }
   ],
   "source": [
    "from unitrip.unified_format.trip_to_flow import unitrip_to_uniflow\n",
    "\n",
    "unitrip_to_uniflow(santiago_unitrip, '../data/unified_format/santiago_eod_uniflow.parquet', flow_res=7, minimun_trips=8)"
   ]
  },
  {
   "cell_type": "markdown",
   "id": "f9cd5f85",
   "metadata": {},
   "source": [
    "## Let's create the flowmap.blue input from flows in unitrip format (uniflow)"
   ]
  },
  {
   "cell_type": "markdown",
   "id": "e71b2f78",
   "metadata": {},
   "source": [
    "Load the parquet to a dataframe with the Uniflow data"
   ]
  },
  {
   "cell_type": "code",
   "execution_count": 8,
   "id": "0140d985",
   "metadata": {},
   "outputs": [
    {
     "data": {
      "text/html": [
       "<div>\n",
       "<style scoped>\n",
       "    .dataframe tbody tr th:only-of-type {\n",
       "        vertical-align: middle;\n",
       "    }\n",
       "\n",
       "    .dataframe tbody tr th {\n",
       "        vertical-align: top;\n",
       "    }\n",
       "\n",
       "    .dataframe thead th {\n",
       "        text-align: right;\n",
       "    }\n",
       "</style>\n",
       "<table border=\"1\" class=\"dataframe\">\n",
       "  <thead>\n",
       "    <tr style=\"text-align: right;\">\n",
       "      <th></th>\n",
       "      <th>o_h3_cell</th>\n",
       "      <th>d_h3_cell</th>\n",
       "      <th>count</th>\n",
       "    </tr>\n",
       "  </thead>\n",
       "  <tbody>\n",
       "    <tr>\n",
       "      <th>43</th>\n",
       "      <td>87b2c0853ffffff</td>\n",
       "      <td>87b2c085effffff</td>\n",
       "      <td>84</td>\n",
       "    </tr>\n",
       "    <tr>\n",
       "      <th>47</th>\n",
       "      <td>87b2c0853ffffff</td>\n",
       "      <td>87b2c08ecffffff</td>\n",
       "      <td>10</td>\n",
       "    </tr>\n",
       "    <tr>\n",
       "      <th>48</th>\n",
       "      <td>87b2c0853ffffff</td>\n",
       "      <td>87b2c08edffffff</td>\n",
       "      <td>61</td>\n",
       "    </tr>\n",
       "    <tr>\n",
       "      <th>77</th>\n",
       "      <td>87b2c085cffffff</td>\n",
       "      <td>87b2c085effffff</td>\n",
       "      <td>10</td>\n",
       "    </tr>\n",
       "    <tr>\n",
       "      <th>88</th>\n",
       "      <td>87b2c085effffff</td>\n",
       "      <td>87b2c0853ffffff</td>\n",
       "      <td>83</td>\n",
       "    </tr>\n",
       "  </tbody>\n",
       "</table>\n",
       "</div>"
      ],
      "text/plain": [
       "          o_h3_cell        d_h3_cell  count\n",
       "43  87b2c0853ffffff  87b2c085effffff     84\n",
       "47  87b2c0853ffffff  87b2c08ecffffff     10\n",
       "48  87b2c0853ffffff  87b2c08edffffff     61\n",
       "77  87b2c085cffffff  87b2c085effffff     10\n",
       "88  87b2c085effffff  87b2c0853ffffff     83"
      ]
     },
     "execution_count": 8,
     "metadata": {},
     "output_type": "execute_result"
    }
   ],
   "source": [
    "santiago_uniflow = pd.read_parquet('../data/unified_format/santiago_eod_uniflow.parquet')\n",
    "santiago_uniflow.head()"
   ]
  },
  {
   "cell_type": "markdown",
   "id": "e674c037",
   "metadata": {},
   "source": [
    "The module is used to convert flows (in unitrip format) to flowmap input"
   ]
  },
  {
   "cell_type": "code",
   "execution_count": 9,
   "id": "af1237f3",
   "metadata": {},
   "outputs": [
    {
     "name": "stdout",
     "output_type": "stream",
     "text": [
      "flows file stored at ../data/use_cases/flowmap/santiago_eod_flows.csv\n",
      "locations file stored at ../data/use_cases/flowmap/santiago_eod_locations.csv\n"
     ]
    }
   ],
   "source": [
    "from unitrip.use_cases.flowmap_blue.flow_to_flowmap import generate_flows_locations\n",
    "\n",
    "generate_flows_locations(santiago_uniflow, '../data/use_cases/flowmap/santiago_eod_flows.csv', '../data/use_cases/flowmap/santiago_eod_locations.csv')"
   ]
  },
  {
   "cell_type": "markdown",
   "id": "242e5b1f",
   "metadata": {},
   "source": [
    "Once these two files have been uploaded to flowmap.blue, the visualization can be seen [HERE](https://www.flowmap.blue/1oTll7OJe8yTegiUeLZgQ-lZR6fTmrEIu5OF52C_1IKk?v=-33.479061%2C-70.660043%2C10.77%2C0%2C0&a=0&as=1&b=1&bo=75&c=0&ca=1&d=1&fe=1&lt=1&lfm=ALL&col=DarkMint&f=50)"
   ]
  }
 ],
 "metadata": {
  "kernelspec": {
   "display_name": "multisource-flows",
   "language": "python",
   "name": "python3"
  },
  "language_info": {
   "codemirror_mode": {
    "name": "ipython",
    "version": 3
   },
   "file_extension": ".py",
   "mimetype": "text/x-python",
   "name": "python",
   "nbconvert_exporter": "python",
   "pygments_lexer": "ipython3",
   "version": "3.13.5"
  }
 },
 "nbformat": 4,
 "nbformat_minor": 5
}
