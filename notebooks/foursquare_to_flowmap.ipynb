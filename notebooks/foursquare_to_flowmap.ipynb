{
 "cells": [
  {
   "cell_type": "markdown",
   "id": "148f897e",
   "metadata": {},
   "source": [
    "# Visualizing Foursquare data in Flowmap using the Unitrip format"
   ]
  },
  {
   "cell_type": "markdown",
   "id": "dd0f7115",
   "metadata": {},
   "source": [
    "This notebook shows how to use the module created to convert Foursquare data to the Unitrip format. Then, from the format created, the data can be converted so that it can be visualized in flowmap.blue"
   ]
  },
  {
   "cell_type": "markdown",
   "id": "dbfa702e",
   "metadata": {},
   "source": [
    "## Preamble"
   ]
  },
  {
   "cell_type": "code",
   "execution_count": 1,
   "id": "11319097",
   "metadata": {},
   "outputs": [],
   "source": [
    "import seaborn as sns\n",
    "import pandas as pd\n",
    "import geopandas as gpd\n",
    "\n",
    "%matplotlib inline\n",
    "sns.set(context='notebook', font='Lucida Sans Unicode', style='white', palette='plasma')"
   ]
  },
  {
   "cell_type": "markdown",
   "id": "ece65467",
   "metadata": {},
   "source": [
    "Import Foursquare data: POIs and Check-ins"
   ]
  },
  {
   "cell_type": "code",
   "execution_count": 2,
   "id": "bb07f480",
   "metadata": {},
   "outputs": [
    {
     "data": {
      "text/html": [
       "<div>\n",
       "<style scoped>\n",
       "    .dataframe tbody tr th:only-of-type {\n",
       "        vertical-align: middle;\n",
       "    }\n",
       "\n",
       "    .dataframe tbody tr th {\n",
       "        vertical-align: top;\n",
       "    }\n",
       "\n",
       "    .dataframe thead th {\n",
       "        text-align: right;\n",
       "    }\n",
       "</style>\n",
       "<table border=\"1\" class=\"dataframe\">\n",
       "  <thead>\n",
       "    <tr style=\"text-align: right;\">\n",
       "      <th></th>\n",
       "      <th>venue_id</th>\n",
       "      <th>lat</th>\n",
       "      <th>lon</th>\n",
       "      <th>category</th>\n",
       "      <th>country</th>\n",
       "    </tr>\n",
       "  </thead>\n",
       "  <tbody>\n",
       "    <tr>\n",
       "      <th>0</th>\n",
       "      <td>3fd66200f964a52000e61ee3</td>\n",
       "      <td>40.729209</td>\n",
       "      <td>-73.998753</td>\n",
       "      <td>Post Office</td>\n",
       "      <td>US</td>\n",
       "    </tr>\n",
       "    <tr>\n",
       "      <th>1</th>\n",
       "      <td>3fd66200f964a52000e71ee3</td>\n",
       "      <td>40.733596</td>\n",
       "      <td>-74.003139</td>\n",
       "      <td>Jazz Club</td>\n",
       "      <td>US</td>\n",
       "    </tr>\n",
       "    <tr>\n",
       "      <th>2</th>\n",
       "      <td>3fd66200f964a52000e81ee3</td>\n",
       "      <td>40.758102</td>\n",
       "      <td>-73.975734</td>\n",
       "      <td>Gym</td>\n",
       "      <td>US</td>\n",
       "    </tr>\n",
       "    <tr>\n",
       "      <th>3</th>\n",
       "      <td>3fd66200f964a52000ea1ee3</td>\n",
       "      <td>40.732456</td>\n",
       "      <td>-74.003755</td>\n",
       "      <td>Indian Restaurant</td>\n",
       "      <td>US</td>\n",
       "    </tr>\n",
       "    <tr>\n",
       "      <th>4</th>\n",
       "      <td>3fd66200f964a52000ec1ee3</td>\n",
       "      <td>42.345907</td>\n",
       "      <td>-71.087001</td>\n",
       "      <td>Indian Restaurant</td>\n",
       "      <td>US</td>\n",
       "    </tr>\n",
       "  </tbody>\n",
       "</table>\n",
       "</div>"
      ],
      "text/plain": [
       "                   venue_id        lat        lon           category country\n",
       "0  3fd66200f964a52000e61ee3  40.729209 -73.998753        Post Office      US\n",
       "1  3fd66200f964a52000e71ee3  40.733596 -74.003139          Jazz Club      US\n",
       "2  3fd66200f964a52000e81ee3  40.758102 -73.975734                Gym      US\n",
       "3  3fd66200f964a52000ea1ee3  40.732456 -74.003755  Indian Restaurant      US\n",
       "4  3fd66200f964a52000ec1ee3  42.345907 -71.087001  Indian Restaurant      US"
      ]
     },
     "execution_count": 2,
     "metadata": {},
     "output_type": "execute_result"
    }
   ],
   "source": [
    "pois = pd.read_csv('../data/other_format/foursquare/raw_POIs.txt', sep='\\t', names=['venue_id', 'lat', 'lon', 'category', 'country']) \n",
    "pois.head()"
   ]
  },
  {
   "cell_type": "code",
   "execution_count": 3,
   "id": "ec7fe3fc",
   "metadata": {},
   "outputs": [
    {
     "data": {
      "text/html": [
       "<div>\n",
       "<style scoped>\n",
       "    .dataframe tbody tr th:only-of-type {\n",
       "        vertical-align: middle;\n",
       "    }\n",
       "\n",
       "    .dataframe tbody tr th {\n",
       "        vertical-align: top;\n",
       "    }\n",
       "\n",
       "    .dataframe thead th {\n",
       "        text-align: right;\n",
       "    }\n",
       "</style>\n",
       "<table border=\"1\" class=\"dataframe\">\n",
       "  <thead>\n",
       "    <tr style=\"text-align: right;\">\n",
       "      <th></th>\n",
       "      <th>user_id</th>\n",
       "      <th>venue_id</th>\n",
       "      <th>datetime</th>\n",
       "      <th>utc_offset</th>\n",
       "    </tr>\n",
       "  </thead>\n",
       "  <tbody>\n",
       "    <tr>\n",
       "      <th>0</th>\n",
       "      <td>546830</td>\n",
       "      <td>4f5e3a72e4b053fd6a4313f6</td>\n",
       "      <td>Tue Apr 03 18:00:06 +0000 2012</td>\n",
       "      <td>240</td>\n",
       "    </tr>\n",
       "    <tr>\n",
       "      <th>1</th>\n",
       "      <td>822121</td>\n",
       "      <td>4b4b87b5f964a5204a9f26e3</td>\n",
       "      <td>Tue Apr 03 18:00:07 +0000 2012</td>\n",
       "      <td>180</td>\n",
       "    </tr>\n",
       "    <tr>\n",
       "      <th>2</th>\n",
       "      <td>2277773</td>\n",
       "      <td>4a85b1b3f964a520eefe1fe3</td>\n",
       "      <td>Tue Apr 03 18:00:08 +0000 2012</td>\n",
       "      <td>-240</td>\n",
       "    </tr>\n",
       "    <tr>\n",
       "      <th>3</th>\n",
       "      <td>208842</td>\n",
       "      <td>4b4606f2f964a520751426e3</td>\n",
       "      <td>Tue Apr 03 18:00:08 +0000 2012</td>\n",
       "      <td>-300</td>\n",
       "    </tr>\n",
       "    <tr>\n",
       "      <th>4</th>\n",
       "      <td>1139878</td>\n",
       "      <td>4d9254ef62ad5481fa6e6a4b</td>\n",
       "      <td>Tue Apr 03 18:00:08 +0000 2012</td>\n",
       "      <td>-180</td>\n",
       "    </tr>\n",
       "  </tbody>\n",
       "</table>\n",
       "</div>"
      ],
      "text/plain": [
       "   user_id                  venue_id                        datetime  \\\n",
       "0   546830  4f5e3a72e4b053fd6a4313f6  Tue Apr 03 18:00:06 +0000 2012   \n",
       "1   822121  4b4b87b5f964a5204a9f26e3  Tue Apr 03 18:00:07 +0000 2012   \n",
       "2  2277773  4a85b1b3f964a520eefe1fe3  Tue Apr 03 18:00:08 +0000 2012   \n",
       "3   208842  4b4606f2f964a520751426e3  Tue Apr 03 18:00:08 +0000 2012   \n",
       "4  1139878  4d9254ef62ad5481fa6e6a4b  Tue Apr 03 18:00:08 +0000 2012   \n",
       "\n",
       "   utc_offset  \n",
       "0         240  \n",
       "1         180  \n",
       "2        -240  \n",
       "3        -300  \n",
       "4        -180  "
      ]
     },
     "execution_count": 3,
     "metadata": {},
     "output_type": "execute_result"
    }
   ],
   "source": [
    "check_ins = pd.read_csv('../data/other_format/foursquare/raw_Checkins_anonymized.txt', sep='\\t', names=['user_id', 'venue_id', 'datetime', 'utc_offset']) # dd.read_csv is not working with the current version of pyarrow\n",
    "check_ins.head()"
   ]
  },
  {
   "cell_type": "markdown",
   "id": "e99a5a17",
   "metadata": {},
   "source": [
    "The municipalities from which the trips are to be studied are listed."
   ]
  },
  {
   "cell_type": "code",
   "execution_count": 4,
   "id": "08cd8af9",
   "metadata": {},
   "outputs": [],
   "source": [
    "municipalities = '''Cerrillos\n",
    "La Reina\n",
    "Pudahuel\n",
    "Cerro Navia\n",
    "Las Condes\n",
    "Quilicura\n",
    "Conchalí\n",
    "Lo Barnechea\n",
    "Quinta Normal\n",
    "El Bosque\n",
    "Lo Espejo\n",
    "Recoleta\n",
    "Estación Central\n",
    "Lo Prado\n",
    "Renca\n",
    "Huechuraba\n",
    "Macul\n",
    "San Miguel (Chile)\n",
    "Independencia (Chile)\n",
    "Maipú\n",
    "San Joaquín (Chile)\n",
    "La Cisterna\n",
    "Ñuñoa\n",
    "San Ramón (Chile)\n",
    "La Florida\n",
    "Pedro Aguirre Cerda\n",
    "Santiago de Chile\n",
    "La Pintana\n",
    "Peñalolén\n",
    "Vitacura\n",
    "La Granja (Chile)\n",
    "Providencia\n",
    "Peñaflor (Chile)\n",
    "San Bernardo (Chile)\n",
    "Padre Hurtado\n",
    "Puente Alto\n",
    "'''.strip().split('\\n')"
   ]
  },
  {
   "cell_type": "markdown",
   "id": "fc2475f0",
   "metadata": {},
   "source": [
    "The module is used to convert the format to unitrip."
   ]
  },
  {
   "cell_type": "code",
   "execution_count": 25,
   "id": "0be2f307",
   "metadata": {},
   "outputs": [
    {
     "name": "stdout",
     "output_type": "stream",
     "text": [
      "Retrieving municipalities data from Open Street Maps ...\n",
      "There are 95670 POIs in the area bounding box\n",
      "There are 92094 POIs in the municipalities\n",
      "Gathering checkins that are inside the municipalities...\n",
      "There are 1306426 Check-ins in the municipalities\n",
      "Crossing check-ins data with POIs location data...\n",
      "Calculating the h3 cell index per check-in...\n",
      "Sorting the table per user and datetime...\n",
      "Building origin-destination pairs with each user's movements ...\n",
      "There are 1265338 trips\n",
      "Building trips with the Unitrip format ...\n",
      "Dataframe ready to store\n",
      "File stored at ../data/unified_format/santiago_foursquare_unitrip2.parquet\n"
     ]
    }
   ],
   "source": [
    "import sys\n",
    "import os.path\n",
    "sys.path.append(os.path.dirname(os.path.dirname(os.path.abspath(os.getcwd()))))\n",
    "\n",
    "from unitrip.format_conversion.foursquare_converter import foursquare_to_unitrip\n",
    "\n",
    "foursquare_to_unitrip(pois, check_ins, municipalities, '../data/unified_format/santiago_foursquare_unitrip2.parquet', 12)"
   ]
  },
  {
   "cell_type": "markdown",
   "id": "2c5045f7",
   "metadata": {},
   "source": [
    "## Let's aggregate trips and create flows in unitrip format (uniflows)"
   ]
  },
  {
   "cell_type": "markdown",
   "id": "f6046100",
   "metadata": {},
   "source": [
    "Load the parquet to a dataframe with the unitrip data"
   ]
  },
  {
   "cell_type": "code",
   "execution_count": 26,
   "id": "57d7696f",
   "metadata": {},
   "outputs": [
    {
     "data": {
      "text/html": [
       "<div>\n",
       "<style scoped>\n",
       "    .dataframe tbody tr th:only-of-type {\n",
       "        vertical-align: middle;\n",
       "    }\n",
       "\n",
       "    .dataframe tbody tr th {\n",
       "        vertical-align: top;\n",
       "    }\n",
       "\n",
       "    .dataframe thead th {\n",
       "        text-align: right;\n",
       "    }\n",
       "</style>\n",
       "<table border=\"1\" class=\"dataframe\">\n",
       "  <thead>\n",
       "    <tr style=\"text-align: right;\">\n",
       "      <th></th>\n",
       "      <th>user_id</th>\n",
       "      <th>o_h3_cell</th>\n",
       "      <th>d_h3_cell</th>\n",
       "    </tr>\n",
       "    <tr>\n",
       "      <th>trip_id</th>\n",
       "      <th></th>\n",
       "      <th></th>\n",
       "      <th></th>\n",
       "    </tr>\n",
       "  </thead>\n",
       "  <tbody>\n",
       "    <tr>\n",
       "      <th>0</th>\n",
       "      <td>230.0</td>\n",
       "      <td>8cb2c556db34dff</td>\n",
       "      <td>8cb2c50939a2dff</td>\n",
       "    </tr>\n",
       "    <tr>\n",
       "      <th>1</th>\n",
       "      <td>230.0</td>\n",
       "      <td>8cb2c50939a2dff</td>\n",
       "      <td>8cb2c5543754bff</td>\n",
       "    </tr>\n",
       "    <tr>\n",
       "      <th>2</th>\n",
       "      <td>230.0</td>\n",
       "      <td>8cb2c5543754bff</td>\n",
       "      <td>8cb2c55452c45ff</td>\n",
       "    </tr>\n",
       "    <tr>\n",
       "      <th>3</th>\n",
       "      <td>230.0</td>\n",
       "      <td>8cb2c55452c45ff</td>\n",
       "      <td>8cb2c556aa861ff</td>\n",
       "    </tr>\n",
       "    <tr>\n",
       "      <th>4</th>\n",
       "      <td>230.0</td>\n",
       "      <td>8cb2c556aa861ff</td>\n",
       "      <td>8cb2c5198793dff</td>\n",
       "    </tr>\n",
       "  </tbody>\n",
       "</table>\n",
       "</div>"
      ],
      "text/plain": [
       "         user_id        o_h3_cell        d_h3_cell\n",
       "trip_id                                           \n",
       "0          230.0  8cb2c556db34dff  8cb2c50939a2dff\n",
       "1          230.0  8cb2c50939a2dff  8cb2c5543754bff\n",
       "2          230.0  8cb2c5543754bff  8cb2c55452c45ff\n",
       "3          230.0  8cb2c55452c45ff  8cb2c556aa861ff\n",
       "4          230.0  8cb2c556aa861ff  8cb2c5198793dff"
      ]
     },
     "execution_count": 26,
     "metadata": {},
     "output_type": "execute_result"
    }
   ],
   "source": [
    "santiago_unitrip = pd.read_parquet('../data/unified_format/santiago_foursquare_unitrip2.parquet', columns=['user_id', 'o_h3_cell', 'd_h3_cell'])\n",
    "santiago_unitrip.head()"
   ]
  },
  {
   "cell_type": "markdown",
   "id": "857505ce",
   "metadata": {},
   "source": [
    "The aggregation will be performed using h3 cells, with a specific level of resolution and filtering with a minimum number of trips per flow"
   ]
  },
  {
   "cell_type": "code",
   "execution_count": 27,
   "id": "65fc4824",
   "metadata": {},
   "outputs": [
    {
     "name": "stdout",
     "output_type": "stream",
     "text": [
      "Set the h3 cell columns to a parent resolution ...\n",
      "Trips from one cell to the same cell are deleted, and the same OD trips made by a user are grouped together. ...\n",
      "There are 550107 unique trips\n",
      "Aggregating trips of the same OD and with a minimun number of trips ...\n",
      "There are 8609 flows\n",
      "File stored at ../data/unified_format/santiago_foursquare_uniflow.parquet\n"
     ]
    }
   ],
   "source": [
    "from unitrip.unified_format.trip_to_flow import unitrip_to_uniflow\n",
    "\n",
    "unitrip_to_uniflow(santiago_unitrip, '../data/unified_format/santiago_foursquare_uniflow.parquet', flow_res=7, minimun_trips=8)"
   ]
  }
 ],
 "metadata": {
  "kernelspec": {
   "display_name": "multisource-flows",
   "language": "python",
   "name": "python3"
  },
  "language_info": {
   "codemirror_mode": {
    "name": "ipython",
    "version": 3
   },
   "file_extension": ".py",
   "mimetype": "text/x-python",
   "name": "python",
   "nbconvert_exporter": "python",
   "pygments_lexer": "ipython3",
   "version": "3.13.5"
  }
 },
 "nbformat": 4,
 "nbformat_minor": 5
}
