{
 "cells": [
  {
   "cell_type": "markdown",
   "id": "b1033937",
   "metadata": {},
   "source": [
    "## Code for foursquare format to Unitrip format (temp in notebook)"
   ]
  },
  {
   "cell_type": "markdown",
   "id": "06626d93",
   "metadata": {},
   "source": [
    "Import foursquare data (raw POIs and checkins)"
   ]
  },
  {
   "cell_type": "markdown",
   "id": "5810c4a6",
   "metadata": {},
   "source": [
    "filter the POIs data with the municipalities of interest"
   ]
  },
  {
   "cell_type": "markdown",
   "id": "08adea4f",
   "metadata": {},
   "source": [
    "Cross both dataframes to get one data frame with user_id, x, y, datetime"
   ]
  },
  {
   "cell_type": "markdown",
   "id": "a3a57073",
   "metadata": {},
   "source": [
    "Add h3 cell (from latitude and longitude) to each check in"
   ]
  },
  {
   "cell_type": "markdown",
   "id": "802b74f4",
   "metadata": {},
   "source": [
    "Build the trips, sorting the table by users and date, where each trip is inferred as the transfer that a user made from the location of a check-in to the next location they visited (in chronological order)."
   ]
  },
  {
   "cell_type": "markdown",
   "id": "f086173a",
   "metadata": {},
   "source": [
    "Save as a parquet file"
   ]
  },
  {
   "cell_type": "markdown",
   "id": "717715e6",
   "metadata": {},
   "source": [
    "## Code to aggregate trips and create flows in unitrip format (temp in notebook)"
   ]
  },
  {
   "cell_type": "markdown",
   "id": "64d1b913",
   "metadata": {},
   "source": [
    "Aggregate trips using h3 cells, with a specific level of resolution and filtering with a minimum number of trips per flow"
   ]
  },
  {
   "cell_type": "markdown",
   "id": "d43aad09",
   "metadata": {},
   "source": [
    "## Code to convert trips and flows (in unitrip format) to flowmap input (temp in notebook)"
   ]
  },
  {
   "cell_type": "markdown",
   "id": "2c705b3d",
   "metadata": {},
   "source": [
    "### Create the flowmap input from trips in unitrip format"
   ]
  },
  {
   "cell_type": "markdown",
   "id": "925a9121",
   "metadata": {},
   "source": [
    "Agreggate the trips to create flows"
   ]
  },
  {
   "cell_type": "markdown",
   "id": "31f0dc34",
   "metadata": {},
   "source": [
    "Create locations magnitude (like in santiago_foursquare) with: id(int), x and y coordinates from h3 cell centroid"
   ]
  },
  {
   "cell_type": "markdown",
   "id": "dd6ceb40",
   "metadata": {},
   "source": [
    "Create locations flows (like in santiago_foursquare) with: id(int), with: origin and destination pointing locations coordinates, and the count of trips"
   ]
  },
  {
   "cell_type": "markdown",
   "id": "d6d0fc05",
   "metadata": {},
   "source": [
    "### Create the flowmap input from flows in unitrip format (uniflow)"
   ]
  },
  {
   "cell_type": "markdown",
   "id": "24d9f41f",
   "metadata": {},
   "source": [
    "Create locations magnitude (like in santiago_foursquare) with: id(int), x and y coordinates from h3 cell centroid"
   ]
  },
  {
   "cell_type": "markdown",
   "id": "820ac473",
   "metadata": {},
   "source": [
    "Create locations flows (like in santiago_foursquare) with: id(int), with: origin and destination pointing locations coordinates, and the count of trips"
   ]
  },
  {
   "cell_type": "markdown",
   "id": "5547dcb1",
   "metadata": {},
   "source": [
    "## Visualizing Foursquare data in Flowmap using the Unitrip format"
   ]
  },
  {
   "cell_type": "markdown",
   "id": "046c3094",
   "metadata": {},
   "source": [
    "Load the raw data of foursquare"
   ]
  },
  {
   "cell_type": "markdown",
   "id": "e571924a",
   "metadata": {},
   "source": [
    "Run the methods of the module to:\n",
    "- Convert to unitrip format\n",
    "- Unitrio to uniflow\n",
    "- Uniflow to flowmap input"
   ]
  },
  {
   "cell_type": "markdown",
   "id": "9b51e0cd",
   "metadata": {},
   "source": [
    "Save the dataframes as flowmap input"
   ]
  },
  {
   "cell_type": "markdown",
   "id": "c10ecb7e",
   "metadata": {},
   "source": [
    "Present the visualizaton url"
   ]
  }
 ],
 "metadata": {
  "language_info": {
   "name": "python"
  }
 },
 "nbformat": 4,
 "nbformat_minor": 5
}
